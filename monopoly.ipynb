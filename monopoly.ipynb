{
 "cells": [
  {
   "cell_type": "markdown",
   "metadata": {},
   "source": [
    "## Import modules"
   ]
  },
  {
   "cell_type": "code",
   "execution_count": 1,
   "metadata": {},
   "outputs": [],
   "source": [
    "import numpy as np\n",
    "import pandas as pd"
   ]
  },
  {
   "cell_type": "markdown",
   "metadata": {},
   "source": [
    "## Create main class"
   ]
  },
  {
   "cell_type": "code",
   "execution_count": 10,
   "metadata": {},
   "outputs": [],
   "source": [
    "class monopoly:\n",
    "    \n",
    "    \n",
    "    def __init__(self, N_players, N_turns):\n",
    "        \"\"\"\n",
    "        Define some class variables\n",
    "        \"\"\"\n",
    "        self.gameboard = pd.read_csv('./game_board.txt')\n",
    "        self.N_players = N_players\n",
    "        self.N_turns = N_turns\n",
    "        self.non_properties = ['Other', 'Community Chest', 'Chance', 'Tax']\n",
    "    \n",
    "        \n",
    "    def roll_dice(self):\n",
    "        \"\"\"\n",
    "        Mimics the output of rolling two 6-faced dice.\n",
    "        \n",
    "        Returns: \n",
    "        ----------\n",
    "        - value: total value of dice\n",
    "        - double: True if double rolled, else False\n",
    "        \"\"\"\n",
    "        die_1 = np.random.randint(low=1, high=7)\n",
    "        die_2 = np.random.randint(low=1, high=7)\n",
    "        value = die_1 + die_2\n",
    "        double = True if die_1 == die_2 else False\n",
    "        return value, double\n",
    "    \n",
    "        \n",
    "    def turn(self, position, owned_properties):\n",
    "        \"\"\"\n",
    "        Simulates a turn in a game (in development).\n",
    "        \n",
    "        Returns:\n",
    "        ----------\n",
    "        roll: what was rolled\n",
    "        position: current position on board\n",
    "        double: whether or not a double was rolled\n",
    "        current_property: current property on board\n",
    "        \"\"\"\n",
    "        roll, double = self.roll_dice()\n",
    "        position += roll\n",
    "        position = position - len(self.gameboard) if position > len(self.gameboard)-1 else position\n",
    "        current_property = self.gameboard.at[position, 'Label']\n",
    "        current_category = self.gameboard.at[position, 'Category']\n",
    "        if current_property not in owned_properties and current_category not in self.non_properties:\n",
    "            owned_properties.append(current_property)\n",
    "        return roll, position, double, current_property\n",
    "        \n",
    "        \n",
    "    def play_minigame(self):\n",
    "        \"\"\"\n",
    "        Simulates a player moving around the board, and collecting properties.\n",
    "        Extra rolls from doubles are included within the turn, however have not\n",
    "        included 3 doubles in a row --> go to jail. Still in development.\n",
    "        \"\"\"\n",
    "        N_turns = self.N_turns\n",
    "        position = 0\n",
    "        owned_properties = []\n",
    "\n",
    "        print(\"{:<10} {:<10} {:<10} {:<10} {:<10}\\n\".format('Turn', 'Roll', 'Position', 'Double', 'Property'))\n",
    "        for i in range(N_turns):\n",
    "            roll, position, double, current_property = self.turn(position, owned_properties)\n",
    "            print(\"{:<10} {:<10} {:<10} {:<10} {:<10}\".format(i+1, roll, position, double, current_property))\n",
    "            while double == True:\n",
    "                roll, position, double, current_property = self.turn(position, owned_properties)\n",
    "                print(\"{:<10} {:<10} {:<10} {:<10} {:<10}\".format('', roll, position, double, current_property))\n",
    "            print(\"\")\n",
    "        \n",
    "        print(\"Owned properties:\\n\")\n",
    "        for prop in owned_properties:\n",
    "            print(prop)"
   ]
  },
  {
   "cell_type": "markdown",
   "metadata": {},
   "source": [
    "## Define and play mini game"
   ]
  },
  {
   "cell_type": "code",
   "execution_count": 7,
   "metadata": {},
   "outputs": [
    {
     "name": "stdout",
     "output_type": "stream",
     "text": [
      "Turn       Roll       Position   Double     Property  \n",
      "\n",
      "1          9          9          0          Pentonville Road\n",
      "\n",
      "2          4          13         0          Whitehall \n",
      "\n",
      "3          7          20         0          Free Parking\n",
      "\n",
      "4          9          29         0          Picadilly \n",
      "\n",
      "5          6          35         0          Liverpool Street Station\n",
      "\n",
      "6          8          3          1          Whitechapel Road\n",
      "           9          12         0          Electric Company\n",
      "\n",
      "Owned properties:\n",
      "\n",
      "Pentonville Road\n",
      "Whitehall\n",
      "Picadilly\n",
      "Liverpool Street Station\n",
      "Whitechapel Road\n",
      "Electric Company\n"
     ]
    }
   ],
   "source": [
    "game = monopoly(N_players=2, N_turns=6)\n",
    "\n",
    "game.play_minigame()"
   ]
  },
  {
   "cell_type": "code",
   "execution_count": 75,
   "metadata": {},
   "outputs": [
    {
     "data": {
      "text/plain": [
       "'{} {} {} 5'"
      ]
     },
     "execution_count": 75,
     "metadata": {},
     "output_type": "execute_result"
    }
   ],
   "source": [
    "(\"{} \" * 3) + '5'"
   ]
  },
  {
   "cell_type": "code",
   "execution_count": null,
   "metadata": {},
   "outputs": [],
   "source": []
  },
  {
   "cell_type": "code",
   "execution_count": 62,
   "metadata": {
    "collapsed": true
   },
   "outputs": [
    {
     "ename": "KeyboardInterrupt",
     "evalue": "Interrupted by user",
     "output_type": "error",
     "traceback": [
      "\u001b[0;31m---------------------------------------------------------------------------\u001b[0m",
      "\u001b[0;31mKeyboardInterrupt\u001b[0m                         Traceback (most recent call last)",
      "\u001b[0;32m<ipython-input-62-3d0605cfea1b>\u001b[0m in \u001b[0;36m<module>\u001b[0;34m\u001b[0m\n\u001b[1;32m     28\u001b[0m         \u001b[0mrolls\u001b[0m \u001b[0;34m=\u001b[0m \u001b[0;34m[\u001b[0m\u001b[0;34m]\u001b[0m\u001b[0;34m\u001b[0m\u001b[0;34m\u001b[0m\u001b[0m\n\u001b[1;32m     29\u001b[0m         \u001b[0;32mfor\u001b[0m \u001b[0mplayer\u001b[0m \u001b[0;32min\u001b[0m \u001b[0mplayer_max_rolls\u001b[0m\u001b[0;34m:\u001b[0m\u001b[0;34m\u001b[0m\u001b[0;34m\u001b[0m\u001b[0m\n\u001b[0;32m---> 30\u001b[0;31m             \u001b[0mrolls\u001b[0m\u001b[0;34m.\u001b[0m\u001b[0mappend\u001b[0m\u001b[0;34m(\u001b[0m\u001b[0mint\u001b[0m\u001b[0;34m(\u001b[0m\u001b[0minput\u001b[0m\u001b[0;34m(\u001b[0m\u001b[0;34m\"{}: give roll value \"\u001b[0m\u001b[0;34m.\u001b[0m\u001b[0mformat\u001b[0m\u001b[0;34m(\u001b[0m\u001b[0mplayer\u001b[0m\u001b[0;34m)\u001b[0m\u001b[0;34m)\u001b[0m\u001b[0;34m)\u001b[0m\u001b[0;34m)\u001b[0m\u001b[0;34m\u001b[0m\u001b[0;34m\u001b[0m\u001b[0m\n\u001b[0m\u001b[1;32m     31\u001b[0m         \u001b[0mrolls\u001b[0m \u001b[0;34m=\u001b[0m \u001b[0mnp\u001b[0m\u001b[0;34m.\u001b[0m\u001b[0masarray\u001b[0m\u001b[0;34m(\u001b[0m\u001b[0mrolls\u001b[0m\u001b[0;34m)\u001b[0m\u001b[0;34m\u001b[0m\u001b[0;34m\u001b[0m\u001b[0m\n\u001b[1;32m     32\u001b[0m         \u001b[0mplayers\u001b[0m \u001b[0;34m=\u001b[0m \u001b[0mplayer_max_rolls\u001b[0m\u001b[0;34m\u001b[0m\u001b[0;34m\u001b[0m\u001b[0m\n",
      "\u001b[0;32m~/opt/anaconda3/lib/python3.8/site-packages/ipykernel/kernelbase.py\u001b[0m in \u001b[0;36mraw_input\u001b[0;34m(self, prompt)\u001b[0m\n\u001b[1;32m    858\u001b[0m                 \u001b[0;34m\"raw_input was called, but this frontend does not support input requests.\"\u001b[0m\u001b[0;34m\u001b[0m\u001b[0;34m\u001b[0m\u001b[0m\n\u001b[1;32m    859\u001b[0m             )\n\u001b[0;32m--> 860\u001b[0;31m         return self._input_request(str(prompt),\n\u001b[0m\u001b[1;32m    861\u001b[0m             \u001b[0mself\u001b[0m\u001b[0;34m.\u001b[0m\u001b[0m_parent_ident\u001b[0m\u001b[0;34m,\u001b[0m\u001b[0;34m\u001b[0m\u001b[0;34m\u001b[0m\u001b[0m\n\u001b[1;32m    862\u001b[0m             \u001b[0mself\u001b[0m\u001b[0;34m.\u001b[0m\u001b[0m_parent_header\u001b[0m\u001b[0;34m,\u001b[0m\u001b[0;34m\u001b[0m\u001b[0;34m\u001b[0m\u001b[0m\n",
      "\u001b[0;32m~/opt/anaconda3/lib/python3.8/site-packages/ipykernel/kernelbase.py\u001b[0m in \u001b[0;36m_input_request\u001b[0;34m(self, prompt, ident, parent, password)\u001b[0m\n\u001b[1;32m    902\u001b[0m             \u001b[0;32mexcept\u001b[0m \u001b[0mKeyboardInterrupt\u001b[0m\u001b[0;34m:\u001b[0m\u001b[0;34m\u001b[0m\u001b[0;34m\u001b[0m\u001b[0m\n\u001b[1;32m    903\u001b[0m                 \u001b[0;31m# re-raise KeyboardInterrupt, to truncate traceback\u001b[0m\u001b[0;34m\u001b[0m\u001b[0;34m\u001b[0m\u001b[0;34m\u001b[0m\u001b[0m\n\u001b[0;32m--> 904\u001b[0;31m                 \u001b[0;32mraise\u001b[0m \u001b[0mKeyboardInterrupt\u001b[0m\u001b[0;34m(\u001b[0m\u001b[0;34m\"Interrupted by user\"\u001b[0m\u001b[0;34m)\u001b[0m \u001b[0;32mfrom\u001b[0m \u001b[0;32mNone\u001b[0m\u001b[0;34m\u001b[0m\u001b[0;34m\u001b[0m\u001b[0m\n\u001b[0m\u001b[1;32m    905\u001b[0m             \u001b[0;32mexcept\u001b[0m \u001b[0mException\u001b[0m \u001b[0;32mas\u001b[0m \u001b[0me\u001b[0m\u001b[0;34m:\u001b[0m\u001b[0;34m\u001b[0m\u001b[0;34m\u001b[0m\u001b[0m\n\u001b[1;32m    906\u001b[0m                 \u001b[0mself\u001b[0m\u001b[0;34m.\u001b[0m\u001b[0mlog\u001b[0m\u001b[0;34m.\u001b[0m\u001b[0mwarning\u001b[0m\u001b[0;34m(\u001b[0m\u001b[0;34m\"Invalid Message:\"\u001b[0m\u001b[0;34m,\u001b[0m \u001b[0mexc_info\u001b[0m\u001b[0;34m=\u001b[0m\u001b[0;32mTrue\u001b[0m\u001b[0;34m)\u001b[0m\u001b[0;34m\u001b[0m\u001b[0;34m\u001b[0m\u001b[0m\n",
      "\u001b[0;31mKeyboardInterrupt\u001b[0m: Interrupted by user"
     ]
    }
   ],
   "source": [
    "def roll_dice():\n",
    "    \"\"\"\n",
    "    Mimics the output of rolling two 6-faced dice.\n",
    "    \n",
    "    Returns: \n",
    "    ----------\n",
    "    - value: total value of dice\n",
    "    - double: True if double rolled, else False\n",
    "    \"\"\"\n",
    "    die_1 = np.random.randint(low=1, high=7)\n",
    "    die_2 = np.random.randint(low=1, high=7)\n",
    "    value = die_1 + die_2\n",
    "    double = True if die_1 == die_2 else False\n",
    "    return value, double\n",
    "\n",
    "players = ['a', 'b', 'c', 'd', 'e']\n",
    "rolls = [7, 12, 12, 12, 12]\n",
    "\n",
    "players = np.asarray(players)\n",
    "rolls = np.asarray(rolls)\n",
    "\n",
    "while True:\n",
    "    max_roll = np.max(rolls)\n",
    "    max_roll_idxs = np.where(rolls == max_roll)[0]\n",
    "    no_max_rolls = len(max_roll_idxs)\n",
    "    player_max_rolls = players[max_roll_idxs]\n",
    "    if no_max_rolls > 1:\n",
    "        rolls = []\n",
    "        for player in player_max_rolls:\n",
    "            rolls.append(int(input(\"{}: give roll value \".format(player))))\n",
    "        rolls = np.asarray(rolls)\n",
    "        players = player_max_rolls\n",
    "    else:\n",
    "        print(player_max_rolls[0])\n",
    "        break"
   ]
  },
  {
   "cell_type": "markdown",
   "metadata": {},
   "source": [
    "## Old code"
   ]
  },
  {
   "cell_type": "code",
   "execution_count": null,
   "metadata": {},
   "outputs": [],
   "source": [
    "# def play_minigame_1(self):\n",
    "#     \"\"\"\n",
    "#     Simulate the monopoly gold minigame (6 rolls, playing against computer).\n",
    "#     Just uses a while loop and appends the extra rolls to the end - not really\n",
    "#     what I want!\n",
    "#     \"\"\"\n",
    "#     position = 0\n",
    "#     extra_rolls = 0\n",
    "#     count = 0\n",
    "#     owned_properties = []\n",
    "#     while count < 6 + extra_rolls:\n",
    "#         roll, double = self.roll()\n",
    "#         position += roll\n",
    "#         position = position - len(self.gameboard) if position > len(self.gameboard)-1 else position\n",
    "#         current_property = self.gameboard.at[position, 'Label']\n",
    "#         current_category = self.gameboard.at[position, 'Category']\n",
    "#         if current_property not in owned_properties and current_category not in self.non_properties:\n",
    "#             owned_properties.append(current_property)\n",
    "#         if double:\n",
    "#             extra_rolls += 1\n",
    "#         count += 1\n",
    "#         print(roll, double, position, current_property)  \n",
    "#     print(owned_properties)\n",
    "\n",
    "#         def turn(position):\n",
    "#             roll, double = self.roll()\n",
    "#             position += roll\n",
    "#             position = position - len(self.gameboard) if position > len(self.gameboard)-1 else position\n",
    "#             current_property = self.gameboard.at[position, 'Label']\n",
    "#             current_category = self.gameboard.at[position, 'Category']\n",
    "#             if current_property not in owned_properties and current_category not in self.non_properties:\n",
    "#                 owned_properties.append(current_property)\n",
    "#             return roll, position, double, current_property\n",
    "        \n",
    "#         print(\"{:<10} {:<10} {:<10} {:<10} {:<10}\\n\".format('Turn', 'Roll', 'Position', 'Double', 'Property'))\n",
    "#         for i in range(N_turns):\n",
    "#             roll, position, double, current_property = turn(position)\n",
    "#             print(\"{:<10} {:<10} {:<10} {:<10} {:<10}\".format(i+1, roll, position, double, current_property))\n",
    "#             while double == True:\n",
    "#                 roll, position, double, current_property = turn(position)\n",
    "#                 print(\"{:<10} {:<10} {:<10} {:<10} {:<10}\".format('', roll, position, double, current_property))\n",
    "#             print(\"\")"
   ]
  }
 ],
 "metadata": {
  "kernelspec": {
   "display_name": "Python 3",
   "language": "python",
   "name": "python3"
  },
  "language_info": {
   "codemirror_mode": {
    "name": "ipython",
    "version": 3
   },
   "file_extension": ".py",
   "mimetype": "text/x-python",
   "name": "python",
   "nbconvert_exporter": "python",
   "pygments_lexer": "ipython3",
   "version": "3.8.3"
  }
 },
 "nbformat": 4,
 "nbformat_minor": 4
}
