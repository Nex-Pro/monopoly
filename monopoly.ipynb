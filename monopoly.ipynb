{
 "cells": [
  {
   "cell_type": "markdown",
   "metadata": {},
   "source": [
    "## Import modules"
   ]
  },
  {
   "cell_type": "code",
   "execution_count": 13,
   "metadata": {},
   "outputs": [],
   "source": [
    "import numpy as np\n",
    "import matplotlib.pyplot as plt\n",
    "import pandas as pd\n",
    "\n",
    "double = False"
   ]
  },
  {
   "cell_type": "markdown",
   "metadata": {},
   "source": [
    "## Create main class"
   ]
  },
  {
   "cell_type": "code",
   "execution_count": 111,
   "metadata": {},
   "outputs": [],
   "source": [
    "class monopoly():\n",
    "    \n",
    "    \n",
    "    def __init__(self, N_players, N_turns):\n",
    "        \"\"\"\n",
    "        Define some class variables\n",
    "        \"\"\"\n",
    "        self.gameboard = pd.read_csv('./game_board.txt')\n",
    "        self.N_players = N_players\n",
    "        self.N_turns = N_turns\n",
    "        self.non_properties = ['Other', 'Community Chest', 'Chance', 'Tax']\n",
    "    \n",
    "        \n",
    "    def roll(self):\n",
    "        \"\"\"\n",
    "        Description: Mimics the output of rolling two 6-faced dice\n",
    "        Returns: length-2 list with total value and whether a double was rolled\n",
    "        \"\"\"\n",
    "        die_1 = np.random.randint(low=1, high=7)\n",
    "        die_2 = np.random.randint(low=1, high=7)\n",
    "        value = die_1 + die_2\n",
    "        double = True if die_1 == die_2 else False\n",
    "        return value, double\n",
    "    \n",
    "    \n",
    "    def extra_turn(self, double):\n",
    "        \"\"\"\n",
    "        If double is True, then an extra turn is given.\n",
    "        \"\"\"\n",
    "        pass\n",
    "    \n",
    "        \n",
    "    def play_minigame_1(self):\n",
    "        \"\"\"\n",
    "        Simulate the monopoly gold minigame (6 rolls, playing against computer).\n",
    "        Just uses a while loop and appends the extra rolls to the end - not really\n",
    "        what I want!\n",
    "        \"\"\"\n",
    "        position = 0\n",
    "        extra_rolls = 0\n",
    "        count = 0\n",
    "        owned_properties = []\n",
    "        while count < 6 + extra_rolls:\n",
    "            roll, double = self.roll()\n",
    "            position += roll\n",
    "            position = position - len(self.gameboard) if position > len(self.gameboard)-1 else position\n",
    "            current_property = self.gameboard.at[position, 'Label']\n",
    "            current_category = self.gameboard.at[position, 'Category']\n",
    "            if current_property not in owned_properties and current_category not in self.non_properties:\n",
    "                owned_properties.append(current_property)\n",
    "            if double:\n",
    "                extra_rolls += 1\n",
    "            count += 1\n",
    "            print(roll, double, position, current_property)  \n",
    "        print(owned_properties)\n",
    "        \n",
    "        \n",
    "    def play_minigame_2(self):\n",
    "        \"\"\"\n",
    "        Simulate the monopoly gold minigame (6 rolls, playing against computer).\n",
    "        Can't get this one to work!\n",
    "        \"\"\"\n",
    "#         global double\n",
    "        double = 0\n",
    "        N_turns = 6\n",
    "        position = 0\n",
    "        owned_properties = []\n",
    "        \n",
    "        def turn():\n",
    "            roll, double = self.roll()\n",
    "            global position\n",
    "            position += roll\n",
    "            position = position - len(self.gameboard) if position > len(self.gameboard)-1 else position\n",
    "            current_property = self.gameboard.at[position, 'Label']\n",
    "            current_category = self.gameboard.at[position, 'Category']\n",
    "            if current_property not in owned_properties and current_category not in self.non_properties:\n",
    "                owned_properties.append(current_property)\n",
    "            print(roll, double, position, current_property) \n",
    "            return double\n",
    "        \n",
    "        print(\"This doesn't work as position does not get reset to zero each time!\\n\")\n",
    "        \n",
    "        for i in range(N_turns):\n",
    "            print(\"Turn {}\".format(i+1))\n",
    "            double = turn()\n",
    "            if double:\n",
    "                turn()\n",
    "            print(\"\")\n",
    "\n",
    "        print(owned_properties)\n",
    "    "
   ]
  },
  {
   "cell_type": "markdown",
   "metadata": {},
   "source": [
    "## Define a game"
   ]
  },
  {
   "cell_type": "code",
   "execution_count": 112,
   "metadata": {},
   "outputs": [
    {
     "name": "stdout",
     "output_type": "stream",
     "text": [
      "This doesn't work as position does not get reset to zero each time!\n",
      "\n",
      "Turn 1\n",
      "7 False 21 Strand\n",
      "\n",
      "Turn 2\n",
      "6 False 27 Coventry Street\n",
      "\n",
      "Turn 3\n",
      "12 True 39 Mayfair\n",
      "5 False 4 Income Tax\n",
      "\n",
      "Turn 4\n",
      "6 True 10 Just Visiting\n",
      "7 False 17 Community Chest 2\n",
      "\n",
      "Turn 5\n",
      "5 False 22 Chance 2\n",
      "\n",
      "Turn 6\n",
      "5 False 27 Coventry Street\n",
      "\n",
      "['Strand', 'Coventry Street', 'Mayfair']\n"
     ]
    }
   ],
   "source": [
    "game = monopoly(N_players=2, N_turns=10)\n",
    "\n",
    "# game.play_minigame_1()\n",
    "game.play_minigame_2()"
   ]
  },
  {
   "cell_type": "markdown",
   "metadata": {},
   "source": [
    "## Play a mini game"
   ]
  },
  {
   "cell_type": "code",
   "execution_count": 49,
   "metadata": {
    "collapsed": true
   },
   "outputs": [
    {
     "name": "stdout",
     "output_type": "stream",
     "text": [
      "9 False 9 Pentonville Road\n",
      "5 False 14 Northumberland Avenue\n",
      "9 False 23 Fleet Street\n",
      "8 False 31 Regent Street\n",
      "2 True 33 Community Chest 3\n",
      "5 False 38 Super Tax\n",
      "7 False 5 Kings Cross Station\n",
      "['Pentonville Road', 'Northumberland Avenue', 'Fleet Street', 'Regent Street', 'Kings Cross Station']\n"
     ]
    }
   ],
   "source": [
    "game.play_minigame()"
   ]
  },
  {
   "cell_type": "code",
   "execution_count": 88,
   "metadata": {},
   "outputs": [
    {
     "name": "stdout",
     "output_type": "stream",
     "text": [
      "2\n",
      "4\n",
      "6\n",
      "8\n",
      "10\n"
     ]
    }
   ],
   "source": [
    "roll = 2\n",
    "position = 0\n",
    "\n",
    "def func():\n",
    "    global position\n",
    "#     position = position + roll\n",
    "    position += roll\n",
    "    print(position)\n",
    "    \n",
    "for i in range(5):\n",
    "    x = func()"
   ]
  },
  {
   "cell_type": "code",
   "execution_count": null,
   "metadata": {},
   "outputs": [],
   "source": []
  }
 ],
 "metadata": {
  "kernelspec": {
   "display_name": "Python 3",
   "language": "python",
   "name": "python3"
  },
  "language_info": {
   "codemirror_mode": {
    "name": "ipython",
    "version": 3
   },
   "file_extension": ".py",
   "mimetype": "text/x-python",
   "name": "python",
   "nbconvert_exporter": "python",
   "pygments_lexer": "ipython3",
   "version": "3.8.3"
  }
 },
 "nbformat": 4,
 "nbformat_minor": 4
}
