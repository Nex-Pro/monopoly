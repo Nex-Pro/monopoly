{
 "cells": [
  {
   "cell_type": "markdown",
   "metadata": {},
   "source": [
    "## Import modules"
   ]
  },
  {
   "cell_type": "code",
   "execution_count": 54,
   "metadata": {},
   "outputs": [],
   "source": [
    "import numpy as np\n",
    "import matplotlib.pyplot as plt\n",
    "import pandas as pd"
   ]
  },
  {
   "cell_type": "markdown",
   "metadata": {},
   "source": [
    "## Create main class"
   ]
  },
  {
   "cell_type": "code",
   "execution_count": 102,
   "metadata": {},
   "outputs": [],
   "source": [
    "class monopoly():\n",
    "    \n",
    "    def __init__(self, N_players, N_turns):\n",
    "        \"\"\"\n",
    "        Define some class variables\n",
    "        \"\"\"\n",
    "        self.gameboard = pd.read_csv('./game_board.txt')\n",
    "        self.N_players = N_players\n",
    "        self.N_turns = N_turns\n",
    "    \n",
    "        \n",
    "    def roll(self):\n",
    "        \"\"\"\n",
    "        Description: Mimics the output of rolling two 6-faced dice\n",
    "        Returns: length-2 list with total value and whether a double was rolled\n",
    "        \"\"\"\n",
    "        die_1 = np.random.randint(low=1, high=7)\n",
    "        die_2 = np.random.randint(low=1, high=7)\n",
    "        value = die_1 + die_2\n",
    "        double = True if die_1 == die_2 else False\n",
    "        output = [value, double]\n",
    "        return output\n",
    "    \n",
    "    \n",
    "    def play_game(self):\n",
    "        \"\"\"\n",
    "        Play a simple game (currently ignoring doubles and assuming 1 player)\n",
    "        \"\"\"\n",
    "        position = 0\n",
    "        for i in range(self.N_turns):\n",
    "            roll, double = self.roll()\n",
    "            position += roll\n",
    "            if position > 39:\n",
    "                position = position - 40\n",
    "            print(roll, position, self.gameboard.at[position, 'Label'])\n",
    "                "
   ]
  },
  {
   "cell_type": "markdown",
   "metadata": {},
   "source": [
    "## Define a game"
   ]
  },
  {
   "cell_type": "code",
   "execution_count": 99,
   "metadata": {},
   "outputs": [],
   "source": [
    "game = monopoly(N_players=2, N_turns=10)"
   ]
  },
  {
   "cell_type": "markdown",
   "metadata": {},
   "source": [
    "## Play a simple game"
   ]
  },
  {
   "cell_type": "code",
   "execution_count": 104,
   "metadata": {},
   "outputs": [
    {
     "name": "stdout",
     "output_type": "stream",
     "text": [
      "11 11 Pall Mall\n",
      "5 16 Bow Street\n",
      "4 20 Free Parking\n",
      "10 30 Go To Jail\n",
      "7 37 Park Lane\n",
      "7 4 Income Tax\n",
      "6 10 Just Visiting\n",
      "3 13 Whitehall\n",
      "5 18 Marlborough Street\n",
      "6 24 Trafalgar Square\n"
     ]
    }
   ],
   "source": [
    "game.play_game()"
   ]
  }
 ],
 "metadata": {
  "kernelspec": {
   "display_name": "Python 3",
   "language": "python",
   "name": "python3"
  },
  "language_info": {
   "codemirror_mode": {
    "name": "ipython",
    "version": 3
   },
   "file_extension": ".py",
   "mimetype": "text/x-python",
   "name": "python",
   "nbconvert_exporter": "python",
   "pygments_lexer": "ipython3",
   "version": "3.8.3"
  }
 },
 "nbformat": 4,
 "nbformat_minor": 4
}
