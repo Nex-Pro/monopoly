{
 "cells": [
  {
   "cell_type": "markdown",
   "metadata": {},
   "source": [
    "## Import modules"
   ]
  },
  {
   "cell_type": "code",
   "execution_count": 1,
   "metadata": {},
   "outputs": [],
   "source": [
    "import numpy as np\n",
    "import pandas as pd"
   ]
  },
  {
   "cell_type": "markdown",
   "metadata": {},
   "source": [
    "## Create main class"
   ]
  },
  {
   "cell_type": "code",
   "execution_count": 10,
   "metadata": {},
   "outputs": [],
   "source": [
    "class monopoly:\n",
    "    \n",
    "    \n",
    "    def __init__(self, N_players, N_turns):\n",
    "        \"\"\"\n",
    "        Define some class variables\n",
    "        \"\"\"\n",
    "        self.gameboard = pd.read_csv('./game_board.txt')\n",
    "        self.N_players = N_players\n",
    "        self.N_turns = N_turns\n",
    "        self.non_properties = ['Other', 'Community Chest', 'Chance', 'Tax']\n",
    "    \n",
    "        \n",
    "    def roll_dice(self):\n",
    "        \"\"\"\n",
    "        Mimics the output of rolling two 6-faced dice.\n",
    "        \n",
    "        Returns: \n",
    "        ----------\n",
    "        - value: total value of dice\n",
    "        - double: True if double rolled, else False\n",
    "        \"\"\"\n",
    "        die_1 = np.random.randint(low=1, high=7)\n",
    "        die_2 = np.random.randint(low=1, high=7)\n",
    "        value = die_1 + die_2\n",
    "        double = True if die_1 == die_2 else False\n",
    "        return value, double\n",
    "    \n",
    "        \n",
    "    def turn(self, position, owned_properties):\n",
    "        \"\"\"\n",
    "        Simulates a turn in a game (in development).\n",
    "        \n",
    "        Returns:\n",
    "        ----------\n",
    "        roll: what was rolled\n",
    "        position: current position on board\n",
    "        double: whether or not a double was rolled\n",
    "        current_property: current property on board\n",
    "        \"\"\"\n",
    "        roll, double = self.roll_dice()\n",
    "        position += roll\n",
    "        position = position - len(self.gameboard) if position > len(self.gameboard)-1 else position\n",
    "        current_property = self.gameboard.at[position, 'Label']\n",
    "        current_category = self.gameboard.at[position, 'Category']\n",
    "        if current_property not in owned_properties and current_category not in self.non_properties:\n",
    "            owned_properties.append(current_property)\n",
    "        return roll, position, double, current_property\n",
    "        \n",
    "        \n",
    "    def play_minigame(self):\n",
    "        \"\"\"\n",
    "        Simulates a player moving around the board, and collecting properties.\n",
    "        Extra rolls from doubles are included within the turn, however have not\n",
    "        included 3 doubles in a row --> go to jail. Still in development.\n",
    "        \"\"\"\n",
    "        N_turns = self.N_turns\n",
    "        position = 0\n",
    "        owned_properties = []\n",
    "\n",
    "        print(\"{:<10} {:<10} {:<10} {:<10} {:<10}\\n\".format('Turn', 'Roll', 'Position', 'Double', 'Property'))\n",
    "        for i in range(N_turns):\n",
    "            roll, position, double, current_property = self.turn(position, owned_properties)\n",
    "            print(\"{:<10} {:<10} {:<10} {:<10} {:<10}\".format(i+1, roll, position, double, current_property))\n",
    "            while double == True:\n",
    "                roll, position, double, current_property = self.turn(position, owned_properties)\n",
    "                print(\"{:<10} {:<10} {:<10} {:<10} {:<10}\".format('', roll, position, double, current_property))\n",
    "            print(\"\")\n",
    "        \n",
    "        print(\"Owned properties:\\n\")\n",
    "        for prop in owned_properties:\n",
    "            print(prop)"
   ]
  },
  {
   "cell_type": "markdown",
   "metadata": {},
   "source": [
    "## Define and play mini game"
   ]
  },
  {
   "cell_type": "code",
   "execution_count": 7,
   "metadata": {},
   "outputs": [
    {
     "name": "stdout",
     "output_type": "stream",
     "text": [
      "Turn       Roll       Position   Double     Property  \n",
      "\n",
      "1          9          9          0          Pentonville Road\n",
      "\n",
      "2          4          13         0          Whitehall \n",
      "\n",
      "3          7          20         0          Free Parking\n",
      "\n",
      "4          9          29         0          Picadilly \n",
      "\n",
      "5          6          35         0          Liverpool Street Station\n",
      "\n",
      "6          8          3          1          Whitechapel Road\n",
      "           9          12         0          Electric Company\n",
      "\n",
      "Owned properties:\n",
      "\n",
      "Pentonville Road\n",
      "Whitehall\n",
      "Picadilly\n",
      "Liverpool Street Station\n",
      "Whitechapel Road\n",
      "Electric Company\n"
     ]
    }
   ],
   "source": [
    "game = monopoly(N_players=2, N_turns=6)\n",
    "\n",
    "game.play_minigame()"
   ]
  },
  {
   "cell_type": "markdown",
   "metadata": {},
   "source": [
    "## Old code"
   ]
  },
  {
   "cell_type": "code",
   "execution_count": null,
   "metadata": {},
   "outputs": [],
   "source": [
    "# def play_minigame_1(self):\n",
    "#     \"\"\"\n",
    "#     Simulate the monopoly gold minigame (6 rolls, playing against computer).\n",
    "#     Just uses a while loop and appends the extra rolls to the end - not really\n",
    "#     what I want!\n",
    "#     \"\"\"\n",
    "#     position = 0\n",
    "#     extra_rolls = 0\n",
    "#     count = 0\n",
    "#     owned_properties = []\n",
    "#     while count < 6 + extra_rolls:\n",
    "#         roll, double = self.roll()\n",
    "#         position += roll\n",
    "#         position = position - len(self.gameboard) if position > len(self.gameboard)-1 else position\n",
    "#         current_property = self.gameboard.at[position, 'Label']\n",
    "#         current_category = self.gameboard.at[position, 'Category']\n",
    "#         if current_property not in owned_properties and current_category not in self.non_properties:\n",
    "#             owned_properties.append(current_property)\n",
    "#         if double:\n",
    "#             extra_rolls += 1\n",
    "#         count += 1\n",
    "#         print(roll, double, position, current_property)  \n",
    "#     print(owned_properties)\n",
    "\n",
    "#         def turn(position):\n",
    "#             roll, double = self.roll()\n",
    "#             position += roll\n",
    "#             position = position - len(self.gameboard) if position > len(self.gameboard)-1 else position\n",
    "#             current_property = self.gameboard.at[position, 'Label']\n",
    "#             current_category = self.gameboard.at[position, 'Category']\n",
    "#             if current_property not in owned_properties and current_category not in self.non_properties:\n",
    "#                 owned_properties.append(current_property)\n",
    "#             return roll, position, double, current_property\n",
    "        \n",
    "#         print(\"{:<10} {:<10} {:<10} {:<10} {:<10}\\n\".format('Turn', 'Roll', 'Position', 'Double', 'Property'))\n",
    "#         for i in range(N_turns):\n",
    "#             roll, position, double, current_property = turn(position)\n",
    "#             print(\"{:<10} {:<10} {:<10} {:<10} {:<10}\".format(i+1, roll, position, double, current_property))\n",
    "#             while double == True:\n",
    "#                 roll, position, double, current_property = turn(position)\n",
    "#                 print(\"{:<10} {:<10} {:<10} {:<10} {:<10}\".format('', roll, position, double, current_property))\n",
    "#             print(\"\")"
   ]
  }
 ],
 "metadata": {
  "kernelspec": {
   "display_name": "Python 3",
   "language": "python",
   "name": "python3"
  },
  "language_info": {
   "codemirror_mode": {
    "name": "ipython",
    "version": 3
   },
   "file_extension": ".py",
   "mimetype": "text/x-python",
   "name": "python",
   "nbconvert_exporter": "python",
   "pygments_lexer": "ipython3",
   "version": "3.8.3"
  }
 },
 "nbformat": 4,
 "nbformat_minor": 4
}
