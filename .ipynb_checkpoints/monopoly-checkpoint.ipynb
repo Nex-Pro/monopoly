{
 "cells": [
  {
   "cell_type": "markdown",
   "metadata": {},
   "source": [
    "## Import modules"
   ]
  },
  {
   "cell_type": "code",
   "execution_count": 1,
   "metadata": {},
   "outputs": [],
   "source": [
    "import numpy as np\n",
    "import matplotlib.pyplot as plt\n",
    "import pandas as pd\n",
    "\n",
    "double = False"
   ]
  },
  {
   "cell_type": "markdown",
   "metadata": {},
   "source": [
    "## Create main class"
   ]
  },
  {
   "cell_type": "code",
   "execution_count": 28,
   "metadata": {},
   "outputs": [],
   "source": [
    "class monopoly():\n",
    "    \n",
    "    \n",
    "    def __init__(self, N_players, N_turns):\n",
    "        \"\"\"\n",
    "        Define some class variables\n",
    "        \"\"\"\n",
    "        self.gameboard = pd.read_csv('./game_board.txt')\n",
    "        self.N_players = N_players\n",
    "        self.N_turns = N_turns\n",
    "        self.non_properties = ['Other', 'Community Chest', 'Chance', 'Tax']\n",
    "    \n",
    "        \n",
    "    def roll(self):\n",
    "        \"\"\"\n",
    "        Description: Mimics the output of rolling two 6-faced dice\n",
    "        Returns: length-2 list with total value and whether a double was rolled\n",
    "        \"\"\"\n",
    "        die_1 = np.random.randint(low=1, high=7)\n",
    "        die_2 = np.random.randint(low=1, high=7)\n",
    "        value = die_1 + die_2\n",
    "        double = True if die_1 == die_2 else False\n",
    "        return value, double\n",
    "    \n",
    "    \n",
    "    def extra_turn(self, double):\n",
    "        \"\"\"\n",
    "        If double is True, then an extra turn is given.\n",
    "        \"\"\"\n",
    "        pass\n",
    "    \n",
    "        \n",
    "    def play_minigame_1(self):\n",
    "        \"\"\"\n",
    "        Simulate the monopoly gold minigame (6 rolls, playing against computer).\n",
    "        Just uses a while loop and appends the extra rolls to the end - not really\n",
    "        what I want!\n",
    "        \"\"\"\n",
    "        position = 0\n",
    "        extra_rolls = 0\n",
    "        count = 0\n",
    "        owned_properties = []\n",
    "        while count < 6 + extra_rolls:\n",
    "            roll, double = self.roll()\n",
    "            position += roll\n",
    "            position = position - len(self.gameboard) if position > len(self.gameboard)-1 else position\n",
    "            current_property = self.gameboard.at[position, 'Label']\n",
    "            current_category = self.gameboard.at[position, 'Category']\n",
    "            if current_property not in owned_properties and current_category not in self.non_properties:\n",
    "                owned_properties.append(current_property)\n",
    "            if double:\n",
    "                extra_rolls += 1\n",
    "            count += 1\n",
    "            print(roll, double, position, current_property)  \n",
    "        print(owned_properties)\n",
    "        \n",
    "        \n",
    "    def play_minigame_2(self):\n",
    "        \"\"\"\n",
    "        Simulate the monopoly gold minigame (6 rolls, playing against computer).\n",
    "        Can't get this one to work!\n",
    "        \"\"\"\n",
    "        N_turns = 6\n",
    "        position = 0\n",
    "        owned_properties = []\n",
    "        \n",
    "        def turn(position):\n",
    "            roll, double = self.roll()\n",
    "            position += roll\n",
    "            position = position - len(self.gameboard) if position > len(self.gameboard)-1 else position\n",
    "            current_property = self.gameboard.at[position, 'Label']\n",
    "            current_category = self.gameboard.at[position, 'Category']\n",
    "            if current_property not in owned_properties and current_category not in self.non_properties:\n",
    "                owned_properties.append(current_property)\n",
    "            print(roll, double, position, current_property) \n",
    "            return position, double\n",
    "        \n",
    "        for i in range(N_turns):\n",
    "            print(\"Turn {}\".format(i+1))\n",
    "            position, double = turn(position)\n",
    "            while double == True:\n",
    "                position, double = turn(position)\n",
    "            print(\"\")\n",
    "\n",
    "        print(owned_properties)\n",
    "    "
   ]
  },
  {
   "cell_type": "markdown",
   "metadata": {},
   "source": [
    "## Define and play mini game"
   ]
  },
  {
   "cell_type": "code",
   "execution_count": 34,
   "metadata": {},
   "outputs": [
    {
     "name": "stdout",
     "output_type": "stream",
     "text": [
      "Turn 1\n",
      "9 False 9 Pentonville Road\n",
      "\n",
      "Turn 2\n",
      "6 True 15 Marylebone Station\n",
      "10 True 25 Fenchurch Street Station\n",
      "7 False 32 Oxford Street\n",
      "\n",
      "Turn 3\n",
      "7 False 39 Mayfair\n",
      "\n",
      "Turn 4\n",
      "4 False 3 Whitechapel Road\n",
      "\n",
      "Turn 5\n",
      "10 False 13 Whitehall\n",
      "\n",
      "Turn 6\n",
      "5 False 18 Marlborough Street\n",
      "\n",
      "['Pentonville Road', 'Marylebone Station', 'Fenchurch Street Station', 'Oxford Street', 'Mayfair', 'Whitechapel Road', 'Whitehall', 'Marlborough Street']\n"
     ]
    }
   ],
   "source": [
    "game = monopoly(N_players=2, N_turns=10)\n",
    "\n",
    "# game.play_minigame_1()\n",
    "game.play_minigame_2()"
   ]
  },
  {
   "cell_type": "code",
   "execution_count": null,
   "metadata": {},
   "outputs": [],
   "source": []
  }
 ],
 "metadata": {
  "kernelspec": {
   "display_name": "Python 3",
   "language": "python",
   "name": "python3"
  },
  "language_info": {
   "codemirror_mode": {
    "name": "ipython",
    "version": 3
   },
   "file_extension": ".py",
   "mimetype": "text/x-python",
   "name": "python",
   "nbconvert_exporter": "python",
   "pygments_lexer": "ipython3",
   "version": "3.8.3"
  }
 },
 "nbformat": 4,
 "nbformat_minor": 4
}
